{
  "nbformat": 4,
  "nbformat_minor": 0,
  "metadata": {
    "kernelspec": {
      "name": "python3",
      "display_name": "Python 3"
    },
    "language_info": {
      "codemirror_mode": {
        "name": "ipython",
        "version": 3
      },
      "file_extension": ".py",
      "mimetype": "text/x-python",
      "name": "python",
      "nbconvert_exporter": "python",
      "pygments_lexer": "ipython3",
      "version": "3.7.4"
    },
    "colab": {
      "name": "NMT_submit.ipynb",
      "provenance": [],
      "collapsed_sections": [],
      "toc_visible": true,
      "machine_shape": "hm"
    },
    "accelerator": "GPU"
  },
  "cells": [
    {
      "cell_type": "markdown",
      "metadata": {
        "id": "iCLRkOdVdm92",
        "colab_type": "text"
      },
      "source": [
        "# Corpus and references:\n",
        "https://www.kaggle.com/aiswaryaramachandran/hindienglish-corpora"
      ]
    },
    {
      "cell_type": "markdown",
      "metadata": {
        "id": "_HlKpZoawYJJ",
        "colab_type": "text"
      },
      "source": [
        "# Packages"
      ]
    },
    {
      "cell_type": "code",
      "metadata": {
        "id": "okc-qN1zdqhs",
        "colab_type": "code",
        "colab": {}
      },
      "source": [
        "import os\n",
        "import pandas as pd\n",
        "import numpy as np\n",
        "from sklearn.model_selection import train_test_split\n",
        "import string\n",
        "import re\n",
        "import matplotlib.pyplot as plt\n",
        "import pickle\n",
        "from string import digits"
      ],
      "execution_count": 0,
      "outputs": []
    },
    {
      "cell_type": "code",
      "metadata": {
        "id": "dfnt1AAfUCDK",
        "colab_type": "code",
        "colab": {
          "base_uri": "https://localhost:8080/",
          "height": 80
        },
        "outputId": "9d653e9b-3a12-482e-b5a1-e7cb94f771ba"
      },
      "source": [
        "from keras.layers import Dense,LSTM,Embedding,RepeatVector,Input,TimeDistributed,Bidirectional\n",
        "from keras.callbacks import ModelCheckpoint,EarlyStopping\n",
        "from keras.preprocessing.text import Tokenizer,text_to_word_sequence\n",
        "from keras.preprocessing.sequence import pad_sequences\n",
        "from keras.models import load_model,Model,Sequential\n",
        "from keras.utils import to_categorical\n",
        "import tensorflow as tf\n",
        "from keras.callbacks import TensorBoard\n",
        "from tqdm import tqdm\n",
        "from keras.utils import plot_model"
      ],
      "execution_count": 2,
      "outputs": [
        {
          "output_type": "stream",
          "text": [
            "Using TensorFlow backend.\n"
          ],
          "name": "stderr"
        },
        {
          "output_type": "display_data",
          "data": {
            "text/html": [
              "<p style=\"color: red;\">\n",
              "The default version of TensorFlow in Colab will soon switch to TensorFlow 2.x.<br>\n",
              "We recommend you <a href=\"https://www.tensorflow.org/guide/migrate\" target=\"_blank\">upgrade</a> now \n",
              "or ensure your notebook will continue to use TensorFlow 1.x via the <code>%tensorflow_version 1.x</code> magic:\n",
              "<a href=\"https://colab.research.google.com/notebooks/tensorflow_version.ipynb\" target=\"_blank\">more info</a>.</p>\n"
            ],
            "text/plain": [
              "<IPython.core.display.HTML object>"
            ]
          },
          "metadata": {
            "tags": []
          }
        }
      ]
    },
    {
      "cell_type": "markdown",
      "metadata": {
        "id": "WE0mGMahdvL2",
        "colab_type": "text"
      },
      "source": [
        "# Read Data"
      ]
    },
    {
      "cell_type": "code",
      "metadata": {
        "id": "tU-jjStqUCDL",
        "colab_type": "code",
        "colab": {}
      },
      "source": [
        "# read dataset\n",
        "data=pd.read_csv(\"Hindi_English_Truncated_Corpus.csv\",encoding=\"utf-8\")\n",
        "data=data.dropna()\n",
        "data=data[data['source']=='ted']#data.sample(frac=0.5)"
      ],
      "execution_count": 0,
      "outputs": []
    },
    {
      "cell_type": "code",
      "metadata": {
        "id": "saX6pxTqUCDN",
        "colab_type": "code",
        "outputId": "1e70b87b-3534-4c96-c043-54a36d19cb1e",
        "colab": {
          "base_uri": "https://localhost:8080/",
          "height": 419
        }
      },
      "source": [
        "data"
      ],
      "execution_count": 4,
      "outputs": [
        {
          "output_type": "execute_result",
          "data": {
            "text/html": [
              "<div>\n",
              "<style scoped>\n",
              "    .dataframe tbody tr th:only-of-type {\n",
              "        vertical-align: middle;\n",
              "    }\n",
              "\n",
              "    .dataframe tbody tr th {\n",
              "        vertical-align: top;\n",
              "    }\n",
              "\n",
              "    .dataframe thead th {\n",
              "        text-align: right;\n",
              "    }\n",
              "</style>\n",
              "<table border=\"1\" class=\"dataframe\">\n",
              "  <thead>\n",
              "    <tr style=\"text-align: right;\">\n",
              "      <th></th>\n",
              "      <th>source</th>\n",
              "      <th>english_sentence</th>\n",
              "      <th>hindi_sentence</th>\n",
              "    </tr>\n",
              "  </thead>\n",
              "  <tbody>\n",
              "    <tr>\n",
              "      <th>0</th>\n",
              "      <td>ted</td>\n",
              "      <td>politicians do not have permission to do what ...</td>\n",
              "      <td>राजनीतिज्ञों के पास जो कार्य करना चाहिए, वह कर...</td>\n",
              "    </tr>\n",
              "    <tr>\n",
              "      <th>1</th>\n",
              "      <td>ted</td>\n",
              "      <td>I'd like to tell you about one such child,</td>\n",
              "      <td>मई आपको ऐसे ही एक बच्चे के बारे में बताना चाहू...</td>\n",
              "    </tr>\n",
              "    <tr>\n",
              "      <th>3</th>\n",
              "      <td>ted</td>\n",
              "      <td>what we really mean is that they're bad at not...</td>\n",
              "      <td>हम ये नहीं कहना चाहते कि वो ध्यान नहीं दे पाते</td>\n",
              "    </tr>\n",
              "    <tr>\n",
              "      <th>7</th>\n",
              "      <td>ted</td>\n",
              "      <td>And who are we to say, even, that they are wrong</td>\n",
              "      <td>और हम होते कौन हैं यह कहने भी वाले कि वे गलत हैं</td>\n",
              "    </tr>\n",
              "    <tr>\n",
              "      <th>13</th>\n",
              "      <td>ted</td>\n",
              "      <td>So there is some sort of justice</td>\n",
              "      <td>तो वहाँ न्याय है</td>\n",
              "    </tr>\n",
              "    <tr>\n",
              "      <th>...</th>\n",
              "      <td>...</td>\n",
              "      <td>...</td>\n",
              "      <td>...</td>\n",
              "    </tr>\n",
              "    <tr>\n",
              "      <th>127595</th>\n",
              "      <td>ted</td>\n",
              "      <td>is if we want that to become our reality -</td>\n",
              "      <td>अगर हम चाहते हैं कि यह वास्तविकता बने -</td>\n",
              "    </tr>\n",
              "    <tr>\n",
              "      <th>127597</th>\n",
              "      <td>ted</td>\n",
              "      <td>Africa has not done bad.</td>\n",
              "      <td>अफ़्रीका ने कुछ गलती नहीं की है।</td>\n",
              "    </tr>\n",
              "    <tr>\n",
              "      <th>127598</th>\n",
              "      <td>ted</td>\n",
              "      <td>Thank you.</td>\n",
              "      <td>धन्यवाद |</td>\n",
              "    </tr>\n",
              "    <tr>\n",
              "      <th>127603</th>\n",
              "      <td>ted</td>\n",
              "      <td>and put it in our cheeks.</td>\n",
              "      <td>और अपने गालों में डाल लेते हैं।</td>\n",
              "    </tr>\n",
              "    <tr>\n",
              "      <th>127606</th>\n",
              "      <td>ted</td>\n",
              "      <td>They've just won four government contracts to ...</td>\n",
              "      <td>हाल ही में उन्हें सरकारी ठेका मिला है करीब सौ ...</td>\n",
              "    </tr>\n",
              "  </tbody>\n",
              "</table>\n",
              "<p>39881 rows × 3 columns</p>\n",
              "</div>"
            ],
            "text/plain": [
              "       source  ...                                     hindi_sentence\n",
              "0         ted  ...  राजनीतिज्ञों के पास जो कार्य करना चाहिए, वह कर...\n",
              "1         ted  ...  मई आपको ऐसे ही एक बच्चे के बारे में बताना चाहू...\n",
              "3         ted  ...     हम ये नहीं कहना चाहते कि वो ध्यान नहीं दे पाते\n",
              "7         ted  ...   और हम होते कौन हैं यह कहने भी वाले कि वे गलत हैं\n",
              "13        ted  ...                                   तो वहाँ न्याय है\n",
              "...       ...  ...                                                ...\n",
              "127595    ted  ...            अगर हम चाहते हैं कि यह वास्तविकता बने -\n",
              "127597    ted  ...                   अफ़्रीका ने कुछ गलती नहीं की है।\n",
              "127598    ted  ...                                          धन्यवाद |\n",
              "127603    ted  ...                    और अपने गालों में डाल लेते हैं।\n",
              "127606    ted  ...  हाल ही में उन्हें सरकारी ठेका मिला है करीब सौ ...\n",
              "\n",
              "[39881 rows x 3 columns]"
            ]
          },
          "metadata": {
            "tags": []
          },
          "execution_count": 4
        }
      ]
    },
    {
      "cell_type": "markdown",
      "metadata": {
        "id": "FHu5SpxiZ78t",
        "colab_type": "text"
      },
      "source": [
        "# Preprocessing"
      ]
    },
    {
      "cell_type": "code",
      "metadata": {
        "id": "TP-_V6Smme8x",
        "colab_type": "code",
        "colab": {}
      },
      "source": [
        "def ProcessData(data):\n",
        "  # drop duplicates from table\n",
        "  data.drop_duplicates(inplace=True)\n",
        "  # making a set of punctuations\n",
        "  specialCharList = set(string.punctuation)\n",
        "  \n",
        "  #Removing digits\n",
        "  data['english_sentence']=data['english_sentence'].str.replace('\\d+', '')\n",
        "  data['hindi_sentence']=data['hindi_sentence'].str.replace('\\d+', '')\n",
        "\n",
        "  # change english to lower\n",
        "  data['english_sentence']=data['english_sentence'].apply(lambda x: x.lower())\n",
        "\n",
        "  # Removing quotes from english and hindi sentences\n",
        "  data['english_sentence'] = data['english_sentence'].str.replace(r\"[\\\"\\',]\", '')\n",
        "  data['hindi_sentence'] = data['hindi_sentence'].str.replace(r\"[\\\"\\',]\", '')\n",
        "\n",
        "  # Removing all the special characters\n",
        "  data['english_sentence']=data['english_sentence'].apply(lambda x: ''.join(ch for ch in x if ch not in specialCharList))\n",
        "  data['hindi_sentence']=data['hindi_sentence'].apply(lambda x: ''.join(ch for ch in x if ch not in specialCharList))\n",
        "\n",
        "  # Removing extra spaces\n",
        "  data['english_sentence']=data['english_sentence'].str.strip()\n",
        "  data['hindi_sentence']=data['hindi_sentence'].str.strip()\n",
        "\n",
        "  # Add start and end tokens to target sequences\n",
        "  data['hindi_sentence'] = data['hindi_sentence'].apply(lambda x : 'SSSSS '+ x + ' EEEEE')\n",
        "  return data"
      ],
      "execution_count": 0,
      "outputs": []
    },
    {
      "cell_type": "code",
      "metadata": {
        "id": "pynig53Smgcl",
        "colab_type": "code",
        "outputId": "e6858921-3a41-4af5-c2ce-7fba6fc4bd44",
        "colab": {
          "base_uri": "https://localhost:8080/",
          "height": 419
        }
      },
      "source": [
        "data=ProcessData(data)\n",
        "data"
      ],
      "execution_count": 6,
      "outputs": [
        {
          "output_type": "execute_result",
          "data": {
            "text/html": [
              "<div>\n",
              "<style scoped>\n",
              "    .dataframe tbody tr th:only-of-type {\n",
              "        vertical-align: middle;\n",
              "    }\n",
              "\n",
              "    .dataframe tbody tr th {\n",
              "        vertical-align: top;\n",
              "    }\n",
              "\n",
              "    .dataframe thead th {\n",
              "        text-align: right;\n",
              "    }\n",
              "</style>\n",
              "<table border=\"1\" class=\"dataframe\">\n",
              "  <thead>\n",
              "    <tr style=\"text-align: right;\">\n",
              "      <th></th>\n",
              "      <th>source</th>\n",
              "      <th>english_sentence</th>\n",
              "      <th>hindi_sentence</th>\n",
              "    </tr>\n",
              "  </thead>\n",
              "  <tbody>\n",
              "    <tr>\n",
              "      <th>0</th>\n",
              "      <td>ted</td>\n",
              "      <td>politicians do not have permission to do what ...</td>\n",
              "      <td>SSSSS राजनीतिज्ञों के पास जो कार्य करना चाहिए ...</td>\n",
              "    </tr>\n",
              "    <tr>\n",
              "      <th>1</th>\n",
              "      <td>ted</td>\n",
              "      <td>id like to tell you about one such child</td>\n",
              "      <td>SSSSS मई आपको ऐसे ही एक बच्चे के बारे में बतान...</td>\n",
              "    </tr>\n",
              "    <tr>\n",
              "      <th>3</th>\n",
              "      <td>ted</td>\n",
              "      <td>what we really mean is that theyre bad at not ...</td>\n",
              "      <td>SSSSS हम ये नहीं कहना चाहते कि वो ध्यान नहीं द...</td>\n",
              "    </tr>\n",
              "    <tr>\n",
              "      <th>7</th>\n",
              "      <td>ted</td>\n",
              "      <td>and who are we to say even that they are wrong</td>\n",
              "      <td>SSSSS और हम होते कौन हैं यह कहने भी वाले कि वे...</td>\n",
              "    </tr>\n",
              "    <tr>\n",
              "      <th>13</th>\n",
              "      <td>ted</td>\n",
              "      <td>so there is some sort of justice</td>\n",
              "      <td>SSSSS तो वहाँ न्याय है EEEEE</td>\n",
              "    </tr>\n",
              "    <tr>\n",
              "      <th>...</th>\n",
              "      <td>...</td>\n",
              "      <td>...</td>\n",
              "      <td>...</td>\n",
              "    </tr>\n",
              "    <tr>\n",
              "      <th>127592</th>\n",
              "      <td>ted</td>\n",
              "      <td>because when you are a developing country</td>\n",
              "      <td>SSSSS क्योंकि जब आप एक विकासशील देश हैं EEEEE</td>\n",
              "    </tr>\n",
              "    <tr>\n",
              "      <th>127595</th>\n",
              "      <td>ted</td>\n",
              "      <td>is if we want that to become our reality</td>\n",
              "      <td>SSSSS अगर हम चाहते हैं कि यह वास्तविकता बने EEEEE</td>\n",
              "    </tr>\n",
              "    <tr>\n",
              "      <th>127597</th>\n",
              "      <td>ted</td>\n",
              "      <td>africa has not done bad</td>\n",
              "      <td>SSSSS अफ़्रीका ने कुछ गलती नहीं की है। EEEEE</td>\n",
              "    </tr>\n",
              "    <tr>\n",
              "      <th>127603</th>\n",
              "      <td>ted</td>\n",
              "      <td>and put it in our cheeks</td>\n",
              "      <td>SSSSS और अपने गालों में डाल लेते हैं। EEEEE</td>\n",
              "    </tr>\n",
              "    <tr>\n",
              "      <th>127606</th>\n",
              "      <td>ted</td>\n",
              "      <td>theyve just won four government contracts to b...</td>\n",
              "      <td>SSSSS हाल ही में उन्हें सरकारी ठेका मिला है कर...</td>\n",
              "    </tr>\n",
              "  </tbody>\n",
              "</table>\n",
              "<p>38803 rows × 3 columns</p>\n",
              "</div>"
            ],
            "text/plain": [
              "       source  ...                                     hindi_sentence\n",
              "0         ted  ...  SSSSS राजनीतिज्ञों के पास जो कार्य करना चाहिए ...\n",
              "1         ted  ...  SSSSS मई आपको ऐसे ही एक बच्चे के बारे में बतान...\n",
              "3         ted  ...  SSSSS हम ये नहीं कहना चाहते कि वो ध्यान नहीं द...\n",
              "7         ted  ...  SSSSS और हम होते कौन हैं यह कहने भी वाले कि वे...\n",
              "13        ted  ...                       SSSSS तो वहाँ न्याय है EEEEE\n",
              "...       ...  ...                                                ...\n",
              "127592    ted  ...      SSSSS क्योंकि जब आप एक विकासशील देश हैं EEEEE\n",
              "127595    ted  ...  SSSSS अगर हम चाहते हैं कि यह वास्तविकता बने EEEEE\n",
              "127597    ted  ...       SSSSS अफ़्रीका ने कुछ गलती नहीं की है। EEEEE\n",
              "127603    ted  ...        SSSSS और अपने गालों में डाल लेते हैं। EEEEE\n",
              "127606    ted  ...  SSSSS हाल ही में उन्हें सरकारी ठेका मिला है कर...\n",
              "\n",
              "[38803 rows x 3 columns]"
            ]
          },
          "metadata": {
            "tags": []
          },
          "execution_count": 6
        }
      ]
    },
    {
      "cell_type": "code",
      "metadata": {
        "id": "EqPyMXErUCDQ",
        "colab_type": "code",
        "colab": {}
      },
      "source": [
        "# get hindi and english data\n",
        "eng_data=data['english_sentence'].values\n",
        "hindi_data=data['hindi_sentence'].values"
      ],
      "execution_count": 0,
      "outputs": []
    },
    {
      "cell_type": "markdown",
      "metadata": {
        "id": "h_kw4-BhUCDU",
        "colab_type": "text"
      },
      "source": [
        "eng_data=np.array([i.translate(str.maketrans('','',string.punctuation)) for i in eng_data])\n",
        "hindi_data=np.array([i.translate(str.maketrans('','',string.punctuation)) for i in hindi_data])"
      ]
    },
    {
      "cell_type": "markdown",
      "metadata": {
        "id": "YdrHdc5ZUCDV",
        "colab_type": "text"
      },
      "source": [
        "h_list=[]\n",
        "e_list=[]\n",
        "for i in eng_data:\n",
        "    e_list.append(len(i.split()))\n",
        "\n",
        "for i in hindi_data:\n",
        "    h_list.append(len(i.split()))\n",
        "\n",
        "len_df=pd.DataFrame({'eng':e_list,'hin':h_list})\n",
        "len_df.hist(bins=[0,50,100,150,200])\n",
        "plt.show()"
      ]
    },
    {
      "cell_type": "code",
      "metadata": {
        "id": "X6YzSvzkeJWg",
        "colab_type": "code",
        "colab": {}
      },
      "source": [
        "# model version\n",
        "version='v1'"
      ],
      "execution_count": 0,
      "outputs": []
    },
    {
      "cell_type": "markdown",
      "metadata": {
        "id": "FmLuQi4-d1Ct",
        "colab_type": "text"
      },
      "source": [
        "# Split dataset"
      ]
    },
    {
      "cell_type": "code",
      "metadata": {
        "id": "X-feRDKAUCDV",
        "colab_type": "code",
        "colab": {}
      },
      "source": [
        "# Spliting the dataset into train and test\n",
        "x_train,x_test,y_train,y_test=train_test_split(eng_data,hindi_data,test_size=0.2,random_state=50)"
      ],
      "execution_count": 0,
      "outputs": []
    },
    {
      "cell_type": "code",
      "metadata": {
        "id": "jFyCQHqaUCDX",
        "colab_type": "code",
        "outputId": "404befd0-959c-43b6-9926-dfe6e1f64df2",
        "colab": {
          "base_uri": "https://localhost:8080/",
          "height": 34
        }
      },
      "source": [
        "x_train.shape,x_test.shape,y_train.shape,y_test.shape"
      ],
      "execution_count": 10,
      "outputs": [
        {
          "output_type": "execute_result",
          "data": {
            "text/plain": [
              "((31042,), (7761,), (31042,), (7761,))"
            ]
          },
          "metadata": {
            "tags": []
          },
          "execution_count": 10
        }
      ]
    },
    {
      "cell_type": "code",
      "metadata": {
        "id": "MXYBRyicUCDZ",
        "colab_type": "code",
        "colab": {}
      },
      "source": [
        " # find max length of dataset sequences\n",
        "def max_length(d):\n",
        "    return max(len(line.split()) for line in d)"
      ],
      "execution_count": 0,
      "outputs": []
    },
    {
      "cell_type": "code",
      "metadata": {
        "id": "WwCg4xTfUCDc",
        "colab_type": "code",
        "colab": {}
      },
      "source": [
        "# create tokenizer by fitting it on the dataset\n",
        "def tokenize(d):\n",
        "    tokenizer=Tokenizer(lower=True)\n",
        "    tokenizer.fit_on_texts(d)\n",
        "    return tokenizer"
      ],
      "execution_count": 0,
      "outputs": []
    },
    {
      "cell_type": "code",
      "metadata": {
        "id": "ieIfukkYUCDe",
        "colab_type": "code",
        "outputId": "efda96d1-a327-4e55-be59-f647a1fd09d2",
        "colab": {
          "base_uri": "https://localhost:8080/",
          "height": 34
        }
      },
      "source": [
        "# english tokenization\n",
        "eng_tokenizer=tokenize(x_train)\n",
        "# find the english vocab size\n",
        "eng_vocab_size=len(eng_tokenizer.word_counts)+1\n",
        "# max length of english sentence\n",
        "eng_length=max_length(x_train)\n",
        "# save the english tokenizer\n",
        "with open('eng_tokenizer_'+version+'.pickle', 'wb') as handle:\n",
        "    pickle.dump(eng_tokenizer, handle, protocol=pickle.HIGHEST_PROTOCOL)\n",
        "eng_vocab_size,eng_length"
      ],
      "execution_count": 13,
      "outputs": [
        {
          "output_type": "execute_result",
          "data": {
            "text/plain": [
              "(15573, 20)"
            ]
          },
          "metadata": {
            "tags": []
          },
          "execution_count": 13
        }
      ]
    },
    {
      "cell_type": "code",
      "metadata": {
        "id": "uIU0oSIlUCDg",
        "colab_type": "code",
        "outputId": "022cd941-040a-4630-8144-0cb476e970f3",
        "colab": {
          "base_uri": "https://localhost:8080/",
          "height": 34
        }
      },
      "source": [
        "# hindi tokenization\n",
        "hindi_tokenizer=tokenize(y_train)\n",
        "# find the hindi vocab size\n",
        "hindi_vocab_size=len(hindi_tokenizer.word_counts)+1\n",
        "# max length of hindi sentence\n",
        "hindi_length=max_length(y_train)\n",
        "# saving the hindi tokenizer\n",
        "with open('hindi_tokenizer_'+version+'.pickle', 'wb') as handle:\n",
        "    pickle.dump(hindi_tokenizer, handle, protocol=pickle.HIGHEST_PROTOCOL)\n",
        "hindi_vocab_size,hindi_length"
      ],
      "execution_count": 14,
      "outputs": [
        {
          "output_type": "execute_result",
          "data": {
            "text/plain": [
              "(19777, 32)"
            ]
          },
          "metadata": {
            "tags": []
          },
          "execution_count": 14
        }
      ]
    },
    {
      "cell_type": "code",
      "metadata": {
        "id": "oy0ldYppUCDj",
        "colab_type": "code",
        "colab": {}
      },
      "source": [
        "# Convert tokens to sequence and pad to the max length\n",
        "def convert_to_seq(tokenizer,d,length):\n",
        "    seq=tokenizer.texts_to_sequences(d)\n",
        "    seq=pad_sequences(seq,maxlen=length,padding='post')\n",
        "    return seq"
      ],
      "execution_count": 0,
      "outputs": []
    },
    {
      "cell_type": "code",
      "metadata": {
        "id": "Y4Lm6od7UCDl",
        "colab_type": "code",
        "outputId": "8f333526-bab8-4970-ab3f-29bb13ee2a1a",
        "colab": {
          "base_uri": "https://localhost:8080/",
          "height": 34
        }
      },
      "source": [
        "# hindi and english training token seq\n",
        "encoder_input_data=convert_to_seq(eng_tokenizer,x_train,eng_length)\n",
        "trainY=convert_to_seq(hindi_tokenizer,y_train,hindi_length)\n",
        "# for decoder the output is one timestep ahead of input for better mapping with previous text\n",
        "decoder_input_data=trainY[:,:-1]\n",
        "decoder_output_data=trainY[:,1:]\n",
        "encoder_input_data.shape,decoder_input_data.shape,decoder_output_data.shape"
      ],
      "execution_count": 16,
      "outputs": [
        {
          "output_type": "execute_result",
          "data": {
            "text/plain": [
              "((31042, 20), (31042, 31), (31042, 31))"
            ]
          },
          "metadata": {
            "tags": []
          },
          "execution_count": 16
        }
      ]
    },
    {
      "cell_type": "markdown",
      "metadata": {
        "id": "5Gb6HGGLeu-z",
        "colab_type": "text"
      },
      "source": [
        "# Model"
      ]
    },
    {
      "cell_type": "code",
      "metadata": {
        "id": "w4aOXjo0YXw2",
        "colab_type": "code",
        "colab": {}
      },
      "source": [
        "# Custom sparse loss function due to error in keras predefined loss function\n",
        "def sparse_cross_entropy(y_true, y_pred):\n",
        "    \"\"\"\n",
        "    Calculate the cross-entropy loss between y_true and y_pred.\n",
        "    ref:- https://github.com/Hvass-Labs/TensorFlow-Tutorials/blob/master/21_Machine_Translation.ipynb\n",
        "    y_true is a 2-rank tensor with the desired output.\n",
        "    The shape is [batch_size, sequence_length] and it\n",
        "    contains sequences of integer-tokens.\n",
        "\n",
        "    y_pred is the decoder's output which is a 3-rank tensor\n",
        "    with shape [batch_size, sequence_length, num_words]\n",
        "    so that for each sequence in the batch there is a one-hot\n",
        "    encoded array of length num_words.\n",
        "    \"\"\"\n",
        "\n",
        "    # Calculate the loss. This outputs a\n",
        "    # 2-rank tensor of shape [batch_size, sequence_length]\n",
        "    loss = tf.nn.sparse_softmax_cross_entropy_with_logits(labels=y_true,\n",
        "                                                          logits=y_pred)\n",
        "\n",
        "    # Keras may reduce this across the first axis (the batch)\n",
        "    # but the semantics are unclear, so to be sure we use\n",
        "    # the loss across the entire 2-rank tensor, we reduce it\n",
        "    # to a single scalar with the mean function.\n",
        "    loss_mean = tf.reduce_mean(loss)\n",
        "\n",
        "    return loss_mean"
      ],
      "execution_count": 0,
      "outputs": []
    },
    {
      "cell_type": "code",
      "metadata": {
        "id": "nFBvo5y3YpwB",
        "colab_type": "code",
        "colab": {}
      },
      "source": [
        "#  There is a bug in keras which restrict it to automatically calculate the output shape, so we defined a placeholder to store the decoder output\n",
        "decoder_target = tf.placeholder(dtype='int32', shape=(None, None))"
      ],
      "execution_count": 0,
      "outputs": []
    },
    {
      "cell_type": "markdown",
      "metadata": {
        "id": "r3_eCQQTYdWv",
        "colab_type": "text"
      },
      "source": [
        "https://machinelearningmastery.com/develop-neural-machine-translation-system-keras/\n",
        "\n",
        "https://www.analyticsvidhya.com/blog/2019/01/neural-machine-translation-keras/\n"
      ]
    },
    {
      "cell_type": "code",
      "metadata": {
        "id": "7wJir19Ge9H2",
        "colab_type": "code",
        "colab": {}
      },
      "source": [
        "# embedding layer output dimension\n",
        "emd_dim=100\n",
        "# Number of units in LSTM\n",
        "nunit=512"
      ],
      "execution_count": 0,
      "outputs": []
    },
    {
      "cell_type": "code",
      "metadata": {
        "id": "bxdxqmPIE1Ce",
        "colab_type": "code",
        "colab": {
          "base_uri": "https://localhost:8080/",
          "height": 156
        },
        "outputId": "eddd344e-a5ec-422b-cf21-ec82609275e7"
      },
      "source": [
        "# Encoder\n",
        "encoder_input=Input(shape=(None,))\n",
        "encoder_emb=Embedding(input_dim=eng_vocab_size,output_dim=emd_dim,embeddings_initializer='he_uniform',mask_zero=True)(encoder_input)\n",
        "encoder_lstm=LSTM(nunit,kernel_initializer='he_uniform',recurrent_initializer='he_uniform',return_state=True)\n",
        "encoder_output,enc_state1,enc_state2=encoder_lstm(encoder_emb)\n",
        "encoder_states=[enc_state1,enc_state2]"
      ],
      "execution_count": 20,
      "outputs": [
        {
          "output_type": "stream",
          "text": [
            "WARNING:tensorflow:From /usr/local/lib/python3.6/dist-packages/keras/backend/tensorflow_backend.py:66: The name tf.get_default_graph is deprecated. Please use tf.compat.v1.get_default_graph instead.\n",
            "\n",
            "WARNING:tensorflow:From /usr/local/lib/python3.6/dist-packages/keras/backend/tensorflow_backend.py:4432: The name tf.random_uniform is deprecated. Please use tf.random.uniform instead.\n",
            "\n",
            "WARNING:tensorflow:From /usr/local/lib/python3.6/dist-packages/keras/backend/tensorflow_backend.py:3239: where (from tensorflow.python.ops.array_ops) is deprecated and will be removed in a future version.\n",
            "Instructions for updating:\n",
            "Use tf.where in 2.0, which has the same broadcast rule as np.where\n"
          ],
          "name": "stdout"
        }
      ]
    },
    {
      "cell_type": "code",
      "metadata": {
        "id": "kZsUolK6HIAW",
        "colab_type": "code",
        "colab": {}
      },
      "source": [
        "# Decoder\n",
        "decoder_input=Input(shape=(None,))\n",
        "decoder_emb=Embedding(input_dim=hindi_vocab_size,output_dim=emd_dim,embeddings_initializer='he_uniform',mask_zero=True)\n",
        "decoder_emb_out=decoder_emb(decoder_input)\n",
        "decoder_lstm=LSTM(nunit,kernel_initializer='he_uniform',recurrent_initializer='he_uniform',return_sequences=True,return_state=True)\n",
        "lstm_output,_,_=decoder_lstm(decoder_emb_out,initial_state=encoder_states)\n",
        "decoder_dense=TimeDistributed(Dense(hindi_vocab_size,kernel_initializer='he_uniform'))\n",
        "decoder_output=decoder_dense(lstm_output)\n",
        "    "
      ],
      "execution_count": 0,
      "outputs": []
    },
    {
      "cell_type": "code",
      "metadata": {
        "id": "1L6FU3QeKcT5",
        "colab_type": "code",
        "colab": {}
      },
      "source": [
        "# Training model\n",
        "model=Model(inputs=[encoder_input,decoder_input],outputs=[decoder_output])"
      ],
      "execution_count": 0,
      "outputs": []
    },
    {
      "cell_type": "code",
      "metadata": {
        "id": "oR7aEzhVVUfJ",
        "colab_type": "code",
        "outputId": "fb37328a-fcbe-4be5-b24f-8fd5e4bb6d4d",
        "colab": {
          "base_uri": "https://localhost:8080/",
          "height": 533
        }
      },
      "source": [
        "plot_model(model, show_layer_names=True,show_shapes=True)"
      ],
      "execution_count": 23,
      "outputs": [
        {
          "output_type": "execute_result",
          "data": {
            "image/png": "[encoded data removed]",
            "text/plain": [
              "<IPython.core.display.Image object>"
            ]
          },
          "metadata": {
            "tags": []
          },
          "execution_count": 23
        }
      ]
    },
    {
      "cell_type": "code",
      "metadata": {
        "id": "qnHOu3UWTVLF",
        "colab_type": "code",
        "colab": {}
      },
      "source": [
        "# Encoder model for inference\n",
        "model_encoder=Model(inputs=encoder_input,outputs=encoder_states)"
      ],
      "execution_count": 0,
      "outputs": []
    },
    {
      "cell_type": "code",
      "metadata": {
        "id": "NYWUOWsIzM_L",
        "colab_type": "code",
        "outputId": "c4d51605-9d57-4dfa-ef1b-d2698b72b90f",
        "colab": {
          "base_uri": "https://localhost:8080/",
          "height": 312
        }
      },
      "source": [
        "plot_model(model_encoder, show_layer_names=True,show_shapes=True)"
      ],
      "execution_count": 25,
      "outputs": [
        {
          "output_type": "execute_result",
          "data": {
            "image/png": "[encoded data removed]",
            "text/plain": [
              "<IPython.core.display.Image object>"
            ]
          },
          "metadata": {
            "tags": []
          },
          "execution_count": 25
        }
      ]
    },
    {
      "cell_type": "code",
      "metadata": {
        "id": "ZRfOqhGzVzB5",
        "colab_type": "code",
        "colab": {}
      },
      "source": [
        "# Decoder model for inference\n",
        "decoder_state_h=Input(shape=(nunit,))\n",
        "decoder_state_c=Input(shape=(nunit,))\n",
        "decoder_state=[decoder_state_h,decoder_state_c]\n",
        "decoder_emd2=decoder_emb(decoder_input)\n",
        "decoder_lstm2,state_h,state_c,=decoder_lstm(decoder_emd2,initial_state=decoder_state)\n",
        "decoder_out_state=[state_h,state_c]\n",
        "decoder_output2=decoder_dense(decoder_lstm2)\n",
        "model_decoder=Model(inputs=[decoder_input]+decoder_state,outputs=[decoder_output2]+decoder_out_state)"
      ],
      "execution_count": 0,
      "outputs": []
    },
    {
      "cell_type": "code",
      "metadata": {
        "id": "jpLG3p38zJmO",
        "colab_type": "code",
        "outputId": "d4507a5b-ebd7-400e-836b-d1d1ae1cf76b",
        "colab": {
          "base_uri": "https://localhost:8080/",
          "height": 442
        }
      },
      "source": [
        "plot_model(model_decoder, show_layer_names=True,show_shapes=True)"
      ],
      "execution_count": 27,
      "outputs": [
        {
          "output_type": "execute_result",
          "data": {
            "image/png": "[encoded data removed]",
            "text/plain": [
              "<IPython.core.display.Image object>"
            ]
          },
          "metadata": {
            "tags": []
          },
          "execution_count": 27
        }
      ]
    },
    {
      "cell_type": "code",
      "metadata": {
        "id": "cZwTwdM5UCDq",
        "colab_type": "code",
        "colab": {
          "base_uri": "https://localhost:8080/",
          "height": 71
        },
        "outputId": "ac83f473-c8ff-4eff-ed83-f9955e53ae3d"
      },
      "source": [
        "model.compile(optimizer='RMSprop',loss=sparse_cross_entropy,target_tensors=decoder_target)"
      ],
      "execution_count": 28,
      "outputs": [
        {
          "output_type": "stream",
          "text": [
            "WARNING:tensorflow:From /usr/local/lib/python3.6/dist-packages/keras/optimizers.py:793: The name tf.train.Optimizer is deprecated. Please use tf.compat.v1.train.Optimizer instead.\n",
            "\n"
          ],
          "name": "stdout"
        }
      ]
    },
    {
      "cell_type": "code",
      "metadata": {
        "id": "S16Do6MrUCDs",
        "colab_type": "code",
        "colab": {
          "base_uri": "https://localhost:8080/",
          "height": 309
        },
        "outputId": "5c0250ae-8e3b-4e5a-ab1a-3f20b58c9f85"
      },
      "source": [
        "epoch=100\n",
        "batches=256\n",
        "mc=ModelCheckpoint(\"./\"+version+\".h5\",monitor='val_loss',save_best_only=True,save_weights_only=True,verbose=1)\n",
        "tensorboard = TensorBoard(\n",
        "  log_dir='log/'+version,\n",
        "  histogram_freq=0,\n",
        "  write_graph=True,\n",
        "  write_grads=True\n",
        ")\n",
        "tensorboard.set_model(model)\n",
        "es=EarlyStopping(patience=epoch//2,monitor='val_loss',verbose=1)\n",
        "cb=[mc,tensorboard,es]"
      ],
      "execution_count": 29,
      "outputs": [
        {
          "output_type": "stream",
          "text": [
            "WARNING:tensorflow:From /usr/local/lib/python3.6/dist-packages/keras/backend/tensorflow_backend.py:190: The name tf.get_default_session is deprecated. Please use tf.compat.v1.get_default_session instead.\n",
            "\n",
            "WARNING:tensorflow:From /usr/local/lib/python3.6/dist-packages/keras/backend/tensorflow_backend.py:197: The name tf.ConfigProto is deprecated. Please use tf.compat.v1.ConfigProto instead.\n",
            "\n",
            "WARNING:tensorflow:From /usr/local/lib/python3.6/dist-packages/keras/backend/tensorflow_backend.py:203: The name tf.Session is deprecated. Please use tf.compat.v1.Session instead.\n",
            "\n",
            "WARNING:tensorflow:From /usr/local/lib/python3.6/dist-packages/keras/backend/tensorflow_backend.py:207: The name tf.global_variables is deprecated. Please use tf.compat.v1.global_variables instead.\n",
            "\n",
            "WARNING:tensorflow:From /usr/local/lib/python3.6/dist-packages/keras/backend/tensorflow_backend.py:216: The name tf.is_variable_initialized is deprecated. Please use tf.compat.v1.is_variable_initialized instead.\n",
            "\n",
            "WARNING:tensorflow:From /usr/local/lib/python3.6/dist-packages/keras/backend/tensorflow_backend.py:223: The name tf.variables_initializer is deprecated. Please use tf.compat.v1.variables_initializer instead.\n",
            "\n",
            "WARNING:tensorflow:From /usr/local/lib/python3.6/dist-packages/keras/callbacks.py:1122: The name tf.summary.merge_all is deprecated. Please use tf.compat.v1.summary.merge_all instead.\n",
            "\n",
            "WARNING:tensorflow:From /usr/local/lib/python3.6/dist-packages/keras/callbacks.py:1125: The name tf.summary.FileWriter is deprecated. Please use tf.compat.v1.summary.FileWriter instead.\n",
            "\n"
          ],
          "name": "stdout"
        }
      ]
    },
    {
      "cell_type": "code",
      "metadata": {
        "id": "Itp8OLdkUCDt",
        "colab_type": "code",
        "outputId": "3bc84a47-b877-4302-9a9e-16881166a7aa",
        "colab": {
          "base_uri": "https://localhost:8080/",
          "height": 1000
        }
      },
      "source": [
        "# Model input as eng to encoder and hindi to decoder\n",
        "x=[encoder_input_data,decoder_input_data]\n",
        "# model true output as shifted timestep hindi\n",
        "y=decoder_output_data\n",
        "model.fit(x,y,epochs=epoch,batch_size=batches,callbacks=cb,validation_split=0.2)"
      ],
      "execution_count": 30,
      "outputs": [
        {
          "output_type": "stream",
          "text": [
            "WARNING:tensorflow:From /usr/local/lib/python3.6/dist-packages/keras/backend/tensorflow_backend.py:1033: The name tf.assign_add is deprecated. Please use tf.compat.v1.assign_add instead.\n",
            "\n",
            "WARNING:tensorflow:From /usr/local/lib/python3.6/dist-packages/keras/backend/tensorflow_backend.py:1020: The name tf.assign is deprecated. Please use tf.compat.v1.assign instead.\n",
            "\n",
            "Train on 24833 samples, validate on 6209 samples\n",
            "Epoch 1/100\n",
            "24833/24833 [==============================] - 21s 838us/step - loss: 2.4099 - val_loss: 2.0271\n",
            "\n",
            "Epoch 00001: val_loss improved from inf to 2.02710, saving model to ./v1.h5\n",
            "WARNING:tensorflow:From /usr/local/lib/python3.6/dist-packages/keras/callbacks.py:1265: The name tf.Summary is deprecated. Please use tf.compat.v1.Summary instead.\n",
            "\n",
            "Epoch 2/100\n",
            "24833/24833 [==============================] - 19s 781us/step - loss: 1.8525 - val_loss: 1.8439\n",
            "\n",
            "Epoch 00002: val_loss improved from 2.02710 to 1.84389, saving model to ./v1.h5\n",
            "Epoch 3/100\n",
            "24833/24833 [==============================] - 19s 778us/step - loss: 1.7345 - val_loss: 1.7792\n",
            "\n",
            "Epoch 00003: val_loss improved from 1.84389 to 1.77922, saving model to ./v1.h5\n",
            "Epoch 4/100\n",
            "24833/24833 [==============================] - 19s 783us/step - loss: 1.6569 - val_loss: 1.7359\n",
            "\n",
            "Epoch 00004: val_loss improved from 1.77922 to 1.73586, saving model to ./v1.h5\n",
            "Epoch 5/100\n",
            "24833/24833 [==============================] - 19s 779us/step - loss: 1.5933 - val_loss: 1.6869\n",
            "\n",
            "Epoch 00005: val_loss improved from 1.73586 to 1.68691, saving model to ./v1.h5\n",
            "Epoch 6/100\n",
            "24833/24833 [==============================] - 19s 781us/step - loss: 1.5348 - val_loss: 1.6654\n",
            "\n",
            "Epoch 00006: val_loss improved from 1.68691 to 1.66536, saving model to ./v1.h5\n",
            "Epoch 7/100\n",
            "24833/24833 [==============================] - 19s 780us/step - loss: 1.4795 - val_loss: 1.6559\n",
            "\n",
            "Epoch 00007: val_loss improved from 1.66536 to 1.65585, saving model to ./v1.h5\n",
            "Epoch 8/100\n",
            "24833/24833 [==============================] - 19s 780us/step - loss: 1.4238 - val_loss: 1.6310\n",
            "\n",
            "Epoch 00008: val_loss improved from 1.65585 to 1.63103, saving model to ./v1.h5\n",
            "Epoch 9/100\n",
            "24833/24833 [==============================] - 19s 779us/step - loss: 1.3715 - val_loss: 1.6175\n",
            "\n",
            "Epoch 00009: val_loss improved from 1.63103 to 1.61747, saving model to ./v1.h5\n",
            "Epoch 10/100\n",
            "24833/24833 [==============================] - 19s 782us/step - loss: 1.3199 - val_loss: 1.6229\n",
            "\n",
            "Epoch 00010: val_loss did not improve from 1.61747\n",
            "Epoch 11/100\n",
            "24833/24833 [==============================] - 19s 777us/step - loss: 1.2697 - val_loss: 1.6161\n",
            "\n",
            "Epoch 00011: val_loss improved from 1.61747 to 1.61606, saving model to ./v1.h5\n",
            "Epoch 12/100\n",
            "24833/24833 [==============================] - 19s 777us/step - loss: 1.2199 - val_loss: 1.6061\n",
            "\n",
            "Epoch 00012: val_loss improved from 1.61606 to 1.60611, saving model to ./v1.h5\n",
            "Epoch 13/100\n",
            "24833/24833 [==============================] - 19s 778us/step - loss: 1.1718 - val_loss: 1.6017\n",
            "\n",
            "Epoch 00013: val_loss improved from 1.60611 to 1.60169, saving model to ./v1.h5\n",
            "Epoch 14/100\n",
            "24833/24833 [==============================] - 19s 777us/step - loss: 1.1232 - val_loss: 1.5925\n",
            "\n",
            "Epoch 00014: val_loss improved from 1.60169 to 1.59246, saving model to ./v1.h5\n",
            "Epoch 15/100\n",
            "24833/24833 [==============================] - 19s 778us/step - loss: 1.0762 - val_loss: 1.5900\n",
            "\n",
            "Epoch 00015: val_loss improved from 1.59246 to 1.58998, saving model to ./v1.h5\n",
            "Epoch 16/100\n",
            "24833/24833 [==============================] - 19s 784us/step - loss: 1.0299 - val_loss: 1.6226\n",
            "\n",
            "Epoch 00016: val_loss did not improve from 1.58998\n",
            "Epoch 17/100\n",
            "24833/24833 [==============================] - 19s 780us/step - loss: 0.9841 - val_loss: 1.5920\n",
            "\n",
            "Epoch 00017: val_loss did not improve from 1.58998\n",
            "Epoch 18/100\n",
            "24833/24833 [==============================] - 19s 781us/step - loss: 0.9401 - val_loss: 1.6125\n",
            "\n",
            "Epoch 00018: val_loss did not improve from 1.58998\n",
            "Epoch 19/100\n",
            "24833/24833 [==============================] - 19s 783us/step - loss: 0.8932 - val_loss: 1.6481\n",
            "\n",
            "Epoch 00019: val_loss did not improve from 1.58998\n",
            "Epoch 20/100\n",
            "24833/24833 [==============================] - 19s 780us/step - loss: 0.8518 - val_loss: 1.6334\n",
            "\n",
            "Epoch 00020: val_loss did not improve from 1.58998\n",
            "Epoch 21/100\n",
            "24833/24833 [==============================] - 19s 781us/step - loss: 0.8057 - val_loss: 1.6512\n",
            "\n",
            "Epoch 00021: val_loss did not improve from 1.58998\n",
            "Epoch 22/100\n",
            "24833/24833 [==============================] - 19s 777us/step - loss: 0.7681 - val_loss: 1.6411\n",
            "\n",
            "Epoch 00022: val_loss did not improve from 1.58998\n",
            "Epoch 23/100\n",
            "24833/24833 [==============================] - 19s 780us/step - loss: 0.7275 - val_loss: 1.6595\n",
            "\n",
            "Epoch 00023: val_loss did not improve from 1.58998\n",
            "Epoch 24/100\n",
            "24833/24833 [==============================] - 19s 777us/step - loss: 0.6858 - val_loss: 1.6821\n",
            "\n",
            "Epoch 00024: val_loss did not improve from 1.58998\n",
            "Epoch 25/100\n",
            "24833/24833 [==============================] - 19s 782us/step - loss: 0.6487 - val_loss: 1.6788\n",
            "\n",
            "Epoch 00025: val_loss did not improve from 1.58998\n",
            "Epoch 26/100\n",
            "24833/24833 [==============================] - 19s 779us/step - loss: 0.6089 - val_loss: 1.6928\n",
            "\n",
            "Epoch 00026: val_loss did not improve from 1.58998\n",
            "Epoch 27/100\n",
            "24833/24833 [==============================] - 19s 776us/step - loss: 0.5745 - val_loss: 1.7116\n",
            "\n",
            "Epoch 00027: val_loss did not improve from 1.58998\n",
            "Epoch 28/100\n",
            "24833/24833 [==============================] - 19s 780us/step - loss: 0.5398 - val_loss: 1.7207\n",
            "\n",
            "Epoch 00028: val_loss did not improve from 1.58998\n",
            "Epoch 29/100\n",
            "24833/24833 [==============================] - 19s 773us/step - loss: 0.5053 - val_loss: 1.7409\n",
            "\n",
            "Epoch 00029: val_loss did not improve from 1.58998\n",
            "Epoch 30/100\n",
            "24833/24833 [==============================] - 19s 779us/step - loss: 0.4725 - val_loss: 1.7539\n",
            "\n",
            "Epoch 00030: val_loss did not improve from 1.58998\n",
            "Epoch 31/100\n",
            "24833/24833 [==============================] - 19s 775us/step - loss: 0.4422 - val_loss: 1.7624\n",
            "\n",
            "Epoch 00031: val_loss did not improve from 1.58998\n",
            "Epoch 32/100\n",
            "24833/24833 [==============================] - 19s 775us/step - loss: 0.4099 - val_loss: 1.7746\n",
            "\n",
            "Epoch 00032: val_loss did not improve from 1.58998\n",
            "Epoch 33/100\n",
            "24833/24833 [==============================] - 19s 779us/step - loss: 0.3852 - val_loss: 1.7844\n",
            "\n",
            "Epoch 00033: val_loss did not improve from 1.58998\n",
            "Epoch 34/100\n",
            "24833/24833 [==============================] - 19s 770us/step - loss: 0.3596 - val_loss: 1.8031\n",
            "\n",
            "Epoch 00034: val_loss did not improve from 1.58998\n",
            "Epoch 35/100\n",
            "24833/24833 [==============================] - 19s 775us/step - loss: 0.3298 - val_loss: 1.8314\n",
            "\n",
            "Epoch 00035: val_loss did not improve from 1.58998\n",
            "Epoch 36/100\n",
            "24833/24833 [==============================] - 19s 779us/step - loss: 0.3096 - val_loss: 1.8327\n",
            "\n",
            "Epoch 00036: val_loss did not improve from 1.58998\n",
            "Epoch 37/100\n",
            "24833/24833 [==============================] - 19s 775us/step - loss: 0.2872 - val_loss: 1.8522\n",
            "\n",
            "Epoch 00037: val_loss did not improve from 1.58998\n",
            "Epoch 38/100\n",
            "24833/24833 [==============================] - 19s 769us/step - loss: 0.2654 - val_loss: 1.8800\n",
            "\n",
            "Epoch 00038: val_loss did not improve from 1.58998\n",
            "Epoch 39/100\n",
            "24833/24833 [==============================] - 19s 783us/step - loss: 0.2450 - val_loss: 1.8912\n",
            "\n",
            "Epoch 00039: val_loss did not improve from 1.58998\n",
            "Epoch 40/100\n",
            "24833/24833 [==============================] - 19s 779us/step - loss: 0.2254 - val_loss: 1.9107\n",
            "\n",
            "Epoch 00040: val_loss did not improve from 1.58998\n",
            "Epoch 41/100\n",
            "24833/24833 [==============================] - 19s 779us/step - loss: 0.2081 - val_loss: 1.9297\n",
            "\n",
            "Epoch 00041: val_loss did not improve from 1.58998\n",
            "Epoch 42/100\n",
            "24833/24833 [==============================] - 19s 781us/step - loss: 0.1918 - val_loss: 1.9710\n",
            "\n",
            "Epoch 00042: val_loss did not improve from 1.58998\n",
            "Epoch 43/100\n",
            "24833/24833 [==============================] - 19s 777us/step - loss: 0.1762 - val_loss: 1.9697\n",
            "\n",
            "Epoch 00043: val_loss did not improve from 1.58998\n",
            "Epoch 44/100\n",
            "24833/24833 [==============================] - 19s 776us/step - loss: 0.1608 - val_loss: 1.9755\n",
            "\n",
            "Epoch 00044: val_loss did not improve from 1.58998\n",
            "Epoch 45/100\n",
            "24833/24833 [==============================] - 19s 776us/step - loss: 0.1482 - val_loss: 1.9876\n",
            "\n",
            "Epoch 00045: val_loss did not improve from 1.58998\n",
            "Epoch 46/100\n",
            "24833/24833 [==============================] - 19s 773us/step - loss: 0.1363 - val_loss: 2.0175\n",
            "\n",
            "Epoch 00046: val_loss did not improve from 1.58998\n",
            "Epoch 47/100\n",
            "24833/24833 [==============================] - 19s 776us/step - loss: 0.1237 - val_loss: 2.0321\n",
            "\n",
            "Epoch 00047: val_loss did not improve from 1.58998\n",
            "Epoch 48/100\n",
            "24833/24833 [==============================] - 19s 780us/step - loss: 0.1132 - val_loss: 2.0393\n",
            "\n",
            "Epoch 00048: val_loss did not improve from 1.58998\n",
            "Epoch 49/100\n",
            "24833/24833 [==============================] - 19s 782us/step - loss: 0.1029 - val_loss: 2.0792\n",
            "\n",
            "Epoch 00049: val_loss did not improve from 1.58998\n",
            "Epoch 50/100\n",
            "24833/24833 [==============================] - 19s 777us/step - loss: 0.0939 - val_loss: 2.0872\n",
            "\n",
            "Epoch 00050: val_loss did not improve from 1.58998\n",
            "Epoch 51/100\n",
            "24833/24833 [==============================] - 19s 777us/step - loss: 0.0851 - val_loss: 2.1398\n",
            "\n",
            "Epoch 00051: val_loss did not improve from 1.58998\n",
            "Epoch 52/100\n",
            "24833/24833 [==============================] - 19s 782us/step - loss: 0.0782 - val_loss: 2.1229\n",
            "\n",
            "Epoch 00052: val_loss did not improve from 1.58998\n",
            "Epoch 53/100\n",
            "24833/24833 [==============================] - 19s 773us/step - loss: 0.0705 - val_loss: 2.1454\n",
            "\n",
            "Epoch 00053: val_loss did not improve from 1.58998\n",
            "Epoch 54/100\n",
            "24833/24833 [==============================] - 19s 772us/step - loss: 0.0644 - val_loss: 2.1667\n",
            "\n",
            "Epoch 00054: val_loss did not improve from 1.58998\n",
            "Epoch 55/100\n",
            "24833/24833 [==============================] - 20s 788us/step - loss: 0.0588 - val_loss: 2.1730\n",
            "\n",
            "Epoch 00055: val_loss did not improve from 1.58998\n",
            "Epoch 56/100\n",
            "24833/24833 [==============================] - 19s 780us/step - loss: 0.0535 - val_loss: 2.1895\n",
            "\n",
            "Epoch 00056: val_loss did not improve from 1.58998\n",
            "Epoch 57/100\n",
            "24833/24833 [==============================] - 19s 776us/step - loss: 0.0488 - val_loss: 2.2247\n",
            "\n",
            "Epoch 00057: val_loss did not improve from 1.58998\n",
            "Epoch 58/100\n",
            "24833/24833 [==============================] - 19s 785us/step - loss: 0.0448 - val_loss: 2.2214\n",
            "\n",
            "Epoch 00058: val_loss did not improve from 1.58998\n",
            "Epoch 59/100\n",
            "24833/24833 [==============================] - 19s 776us/step - loss: 0.0404 - val_loss: 2.2408\n",
            "\n",
            "Epoch 00059: val_loss did not improve from 1.58998\n",
            "Epoch 60/100\n",
            "24833/24833 [==============================] - 19s 778us/step - loss: 0.0376 - val_loss: 2.2656\n",
            "\n",
            "Epoch 00060: val_loss did not improve from 1.58998\n",
            "Epoch 61/100\n",
            "24833/24833 [==============================] - 19s 777us/step - loss: 0.0350 - val_loss: 2.2653\n",
            "\n",
            "Epoch 00061: val_loss did not improve from 1.58998\n",
            "Epoch 62/100\n",
            "24833/24833 [==============================] - 19s 776us/step - loss: 0.0315 - val_loss: 2.2976\n",
            "\n",
            "Epoch 00062: val_loss did not improve from 1.58998\n",
            "Epoch 63/100\n",
            "24833/24833 [==============================] - 19s 778us/step - loss: 0.0296 - val_loss: 2.3134\n",
            "\n",
            "Epoch 00063: val_loss did not improve from 1.58998\n",
            "Epoch 64/100\n",
            "24833/24833 [==============================] - 19s 778us/step - loss: 0.0266 - val_loss: 2.3143\n",
            "\n",
            "Epoch 00064: val_loss did not improve from 1.58998\n",
            "Epoch 65/100\n",
            "24833/24833 [==============================] - 19s 777us/step - loss: 0.0243 - val_loss: 2.3266\n",
            "\n",
            "Epoch 00065: val_loss did not improve from 1.58998\n",
            "Epoch 00065: early stopping\n"
          ],
          "name": "stdout"
        },
        {
          "output_type": "execute_result",
          "data": {
            "text/plain": [
              "<keras.callbacks.History at 0x7f807b434320>"
            ]
          },
          "metadata": {
            "tags": []
          },
          "execution_count": 30
        }
      ]
    },
    {
      "cell_type": "markdown",
      "metadata": {
        "id": "ZJ6ND89Qdk4d",
        "colab_type": "text"
      },
      "source": [
        "# Prediction"
      ]
    },
    {
      "cell_type": "code",
      "metadata": {
        "id": "zSlpOowOnd2N",
        "colab_type": "code",
        "outputId": "6187d57e-0126-4f48-b479-be08d6d9905a",
        "colab": {
          "base_uri": "https://localhost:8080/",
          "height": 34
        }
      },
      "source": [
        "# hindi and english training token seq\n",
        "testX=convert_to_seq(eng_tokenizer,x_test,eng_length)\n",
        "testY=convert_to_seq(hindi_tokenizer,y_test,hindi_length)\n",
        "testX.shape,testY.shape"
      ],
      "execution_count": 31,
      "outputs": [
        {
          "output_type": "execute_result",
          "data": {
            "text/plain": [
              "((7761, 20), (7761, 32))"
            ]
          },
          "metadata": {
            "tags": []
          },
          "execution_count": 31
        }
      ]
    },
    {
      "cell_type": "code",
      "metadata": {
        "id": "_BhmzLjnUCD0",
        "colab_type": "code",
        "colab": {}
      },
      "source": [
        "#load model\n",
        "model.load_weights('./'+version+'.h5')\n",
        "# load tokenizers\n",
        "with open('./eng_tokenizer_'+version+'.pickle',\"rb\") as handle:\n",
        "    eng_tokenizer=pickle.load(handle)\n",
        "\n",
        "with open(\"./hindi_tokenizer_\"+version+\".pickle\",\"rb\") as handle:\n",
        "    hindi_tokenizer=pickle.load(handle)"
      ],
      "execution_count": 0,
      "outputs": []
    },
    {
      "cell_type": "code",
      "metadata": {
        "id": "Uv-govyzrzfd",
        "colab_type": "code",
        "colab": {}
      },
      "source": [
        "# extract word at the given index in tokenizer\n",
        "def word_id(idx,tokenizer):\n",
        "  for word,index in tokenizer.word_index.items():\n",
        "    if index==idx:\n",
        "      return word\n",
        "  return None"
      ],
      "execution_count": 0,
      "outputs": []
    },
    {
      "cell_type": "code",
      "metadata": {
        "id": "VR_N3iXwvsr2",
        "colab_type": "code",
        "colab": {}
      },
      "source": [
        "# Convert prediction into words\n",
        "def convert_out(model,tokenizer,test_input,tar_seq):\n",
        "  # get the thought vector from encoder\n",
        "  enc_states=model_encoder.predict(test_input.reshape(1,-1))\n",
        "  flag=True\n",
        "  output=''\n",
        "  while flag:\n",
        "    # predict the output and next state from decoder\n",
        "    out_token,h,c=model_decoder.predict([tar_seq]+enc_states)\n",
        "    # find the highest probable token\n",
        "    out_index=np.argmax(out_token[0])\n",
        "    # extract the word from tokenizer\n",
        "    word=word_id(out_index,tokenizer)\n",
        "    if word==None:\n",
        "      break\n",
        "    output+=' '+word\n",
        "    #if the word is the end token or the length has reached max hindi length then break the loop\n",
        "    if word=='eeeee' or len(output)>hindi_length:\n",
        "      flag=False\n",
        "    # assign new index to decoder\n",
        "    tar_seq=np.zeros((1,1))\n",
        "    tar_seq[0,0]=out_index\n",
        "    #assign new state to decoder\n",
        "    enc_states=[h,c]\n",
        "  return output"
      ],
      "execution_count": 0,
      "outputs": []
    },
    {
      "cell_type": "code",
      "metadata": {
        "id": "Kv0fXWWSsEIO",
        "colab_type": "code",
        "colab": {}
      },
      "source": [
        "# create the start token for decoder prediction\n",
        "tar_seq=np.zeros((1,1))\n",
        "tar_seq[0,0]=hindi_tokenizer.word_index['sssss']"
      ],
      "execution_count": 0,
      "outputs": []
    },
    {
      "cell_type": "code",
      "metadata": {
        "id": "mXkYyU1BqfMI",
        "colab_type": "code",
        "outputId": "3eb0d38d-1eab-4e15-8a6b-57a430c91552",
        "colab": {
          "base_uri": "https://localhost:8080/",
          "height": 34
        }
      },
      "source": [
        "# Predict for the dataset\n",
        "english=[]\n",
        "actual=[]\n",
        "hindi=[]\n",
        "for i in tqdm (range(len(testX))):\n",
        "  sout=convert_out(model,hindi_tokenizer,testX[i],tar_seq)\n",
        "  hindi.append(sout.replace('eeeee', ''))\n",
        "  actual.append(y_test[i])\n",
        "  english.append(x_test[i])"
      ],
      "execution_count": 36,
      "outputs": [
        {
          "output_type": "stream",
          "text": [
            "100%|██████████| 7761/7761 [04:13<00:00, 30.63it/s]\n"
          ],
          "name": "stderr"
        }
      ]
    },
    {
      "cell_type": "markdown",
      "metadata": {
        "id": "pOjigJnRgIwP",
        "colab_type": "text"
      },
      "source": [
        "#  Output"
      ]
    },
    {
      "cell_type": "code",
      "metadata": {
        "id": "QO51wOPiu-BO",
        "colab_type": "code",
        "colab": {}
      },
      "source": [
        "df=pd.DataFrame({'English':english,'Actual':actual,'Hindi':hindi})"
      ],
      "execution_count": 0,
      "outputs": []
    },
    {
      "cell_type": "code",
      "metadata": {
        "id": "5kqRWm4T7RdG",
        "colab_type": "code",
        "outputId": "a3b6bdcc-31ee-4d15-a65a-fb5740f0efc1",
        "colab": {
          "base_uri": "https://localhost:8080/",
          "height": 204
        }
      },
      "source": [
        "df.head()"
      ],
      "execution_count": 38,
      "outputs": [
        {
          "output_type": "execute_result",
          "data": {
            "text/html": [
              "<div>\n",
              "<style scoped>\n",
              "    .dataframe tbody tr th:only-of-type {\n",
              "        vertical-align: middle;\n",
              "    }\n",
              "\n",
              "    .dataframe tbody tr th {\n",
              "        vertical-align: top;\n",
              "    }\n",
              "\n",
              "    .dataframe thead th {\n",
              "        text-align: right;\n",
              "    }\n",
              "</style>\n",
              "<table border=\"1\" class=\"dataframe\">\n",
              "  <thead>\n",
              "    <tr style=\"text-align: right;\">\n",
              "      <th></th>\n",
              "      <th>English</th>\n",
              "      <th>Actual</th>\n",
              "      <th>Hindi</th>\n",
              "    </tr>\n",
              "  </thead>\n",
              "  <tbody>\n",
              "    <tr>\n",
              "      <th>0</th>\n",
              "      <td>into something else</td>\n",
              "      <td>SSSSS कुछ ओर में EEEEE</td>\n",
              "      <td>एक बार</td>\n",
              "    </tr>\n",
              "    <tr>\n",
              "      <th>1</th>\n",
              "      <td>into the machine</td>\n",
              "      <td>SSSSS कपड़े डाले EEEEE</td>\n",
              "      <td>जैसे की तरफ</td>\n",
              "    </tr>\n",
              "    <tr>\n",
              "      <th>2</th>\n",
              "      <td>somebody said the word revolution is a bad word</td>\n",
              "      <td>SSSSS किसी ने कहा क्रांति बुरा शब्द है EEEEE</td>\n",
              "      <td>उन्होंने कहा गया कि यह एक बहुत ही</td>\n",
              "    </tr>\n",
              "    <tr>\n",
              "      <th>3</th>\n",
              "      <td>we respond to stories more than data</td>\n",
              "      <td>SSSSS हम आंकड़ो की अपेक्षा कहनियों पर ज्यादा प...</td>\n",
              "      <td>हम इसे एक स्तर पर भी उपयोग करते हैं</td>\n",
              "    </tr>\n",
              "    <tr>\n",
              "      <th>4</th>\n",
              "      <td>with a small ruling class here in the united s...</td>\n",
              "      <td>SSSSS याहा पार अमेरिका में छोटेसे वर्ग के साथ ...</td>\n",
              "      <td>एक कागज के साथ एक छोटे छोटे से पहले</td>\n",
              "    </tr>\n",
              "  </tbody>\n",
              "</table>\n",
              "</div>"
            ],
            "text/plain": [
              "                                             English  ...                                 Hindi\n",
              "0                                into something else  ...                               एक बार \n",
              "1                                   into the machine  ...                          जैसे की तरफ \n",
              "2    somebody said the word revolution is a bad word  ...     उन्होंने कहा गया कि यह एक बहुत ही\n",
              "3               we respond to stories more than data  ...   हम इसे एक स्तर पर भी उपयोग करते हैं\n",
              "4  with a small ruling class here in the united s...  ...   एक कागज के साथ एक छोटे छोटे से पहले\n",
              "\n",
              "[5 rows x 3 columns]"
            ]
          },
          "metadata": {
            "tags": []
          },
          "execution_count": 38
        }
      ]
    },
    {
      "cell_type": "code",
      "metadata": {
        "id": "HxUDdKZE51UE",
        "colab_type": "code",
        "outputId": "0b318372-9db2-4765-ab98-62aeb002c1b7",
        "colab": {
          "base_uri": "https://localhost:8080/",
          "height": 204
        }
      },
      "source": [
        "df.tail()"
      ],
      "execution_count": 39,
      "outputs": [
        {
          "output_type": "execute_result",
          "data": {
            "text/html": [
              "<div>\n",
              "<style scoped>\n",
              "    .dataframe tbody tr th:only-of-type {\n",
              "        vertical-align: middle;\n",
              "    }\n",
              "\n",
              "    .dataframe tbody tr th {\n",
              "        vertical-align: top;\n",
              "    }\n",
              "\n",
              "    .dataframe thead th {\n",
              "        text-align: right;\n",
              "    }\n",
              "</style>\n",
              "<table border=\"1\" class=\"dataframe\">\n",
              "  <thead>\n",
              "    <tr style=\"text-align: right;\">\n",
              "      <th></th>\n",
              "      <th>English</th>\n",
              "      <th>Actual</th>\n",
              "      <th>Hindi</th>\n",
              "    </tr>\n",
              "  </thead>\n",
              "  <tbody>\n",
              "    <tr>\n",
              "      <th>7756</th>\n",
              "      <td>that would be based in good part on tourism</td>\n",
              "      <td>SSSSS जो कि पर्यटन पर टिकी हो EEEEE</td>\n",
              "      <td>जो कि भविष्य में से अधिक हो रहा है</td>\n",
              "    </tr>\n",
              "    <tr>\n",
              "      <th>7757</th>\n",
              "      <td>it has to get very compelling before well pay ...</td>\n",
              "      <td>SSSSS इसको बहुत ही जयादा अकाट्य होना पड़ेगा इस...</td>\n",
              "      <td>यह सब कुछ भी नहीं होगा जो कि वो एक</td>\n",
              "    </tr>\n",
              "    <tr>\n",
              "      <th>7758</th>\n",
              "      <td>is tackling the problem of government</td>\n",
              "      <td>SSSSS सरकार के कार्यक्षमता कि समस्या का हल निक...</td>\n",
              "      <td>इस तरह की समस्या को</td>\n",
              "    </tr>\n",
              "    <tr>\n",
              "      <th>7759</th>\n",
              "      <td>through a tire from a jet plane</td>\n",
              "      <td>SSSSS एक जेट प्लेन के टायर से EEEEE</td>\n",
              "      <td>एक छोटी से शिक्षा के रूप में</td>\n",
              "    </tr>\n",
              "    <tr>\n",
              "      <th>7760</th>\n",
              "      <td>the key is they can never ever know it</td>\n",
              "      <td>SSSSS अंदर की बात ये है कि उन्हें कभी ये पता न...</td>\n",
              "      <td>एक बात है कि आप को देख सकते हैं</td>\n",
              "    </tr>\n",
              "  </tbody>\n",
              "</table>\n",
              "</div>"
            ],
            "text/plain": [
              "                                                English  ...                                Hindi\n",
              "7756        that would be based in good part on tourism  ...   जो कि भविष्य में से अधिक हो रहा है\n",
              "7757  it has to get very compelling before well pay ...  ...   यह सब कुछ भी नहीं होगा जो कि वो एक\n",
              "7758              is tackling the problem of government  ...                 इस तरह की समस्या को \n",
              "7759                    through a tire from a jet plane  ...        एक छोटी से शिक्षा के रूप में \n",
              "7760             the key is they can never ever know it  ...     एक बात है कि आप को देख सकते हैं \n",
              "\n",
              "[5 rows x 3 columns]"
            ]
          },
          "metadata": {
            "tags": []
          },
          "execution_count": 39
        }
      ]
    },
    {
      "cell_type": "code",
      "metadata": {
        "id": "hRreOo3i7TNM",
        "colab_type": "code",
        "outputId": "f6633b9e-c200-4c71-db6b-804137ed7c43",
        "colab": {
          "base_uri": "https://localhost:8080/",
          "height": 1000
        }
      },
      "source": [
        "df.sample(50)"
      ],
      "execution_count": 40,
      "outputs": [
        {
          "output_type": "execute_result",
          "data": {
            "text/html": [
              "<div>\n",
              "<style scoped>\n",
              "    .dataframe tbody tr th:only-of-type {\n",
              "        vertical-align: middle;\n",
              "    }\n",
              "\n",
              "    .dataframe tbody tr th {\n",
              "        vertical-align: top;\n",
              "    }\n",
              "\n",
              "    .dataframe thead th {\n",
              "        text-align: right;\n",
              "    }\n",
              "</style>\n",
              "<table border=\"1\" class=\"dataframe\">\n",
              "  <thead>\n",
              "    <tr style=\"text-align: right;\">\n",
              "      <th></th>\n",
              "      <th>English</th>\n",
              "      <th>Actual</th>\n",
              "      <th>Hindi</th>\n",
              "    </tr>\n",
              "  </thead>\n",
              "  <tbody>\n",
              "    <tr>\n",
              "      <th>2192</th>\n",
              "      <td>or is it more likely that a reader of skeptic ...</td>\n",
              "      <td>SSSSS या इससे ज्यादा संभावना हैं कि “Skeptic” ...</td>\n",
              "      <td>या इस दुनिया को इस्तेमाल करने के</td>\n",
              "    </tr>\n",
              "    <tr>\n",
              "      <th>6211</th>\n",
              "      <td>its not just throwing them out at random</td>\n",
              "      <td>SSSSS आखिर इन्हें बिना किसी उद्द्देश्य के यूँ ...</td>\n",
              "      <td>यह नहीं है कि वे इसे करना चाहते हैं</td>\n",
              "    </tr>\n",
              "    <tr>\n",
              "      <th>1786</th>\n",
              "      <td>ill just show you some of the experiments</td>\n",
              "      <td>SSSSS मैं सिर्फ आपको कुछ प्रयोग दिखाऊंगा EEEEE</td>\n",
              "      <td>मैं आपको एक उदाहरण के लिए दिखाना</td>\n",
              "    </tr>\n",
              "    <tr>\n",
              "      <th>817</th>\n",
              "      <td>highways bridges things like that</td>\n",
              "      <td>SSSSS सडकें पुल और इस तरह की चीजें। EEEEE</td>\n",
              "      <td>जैसे कि कुछ भी कुछ हो</td>\n",
              "    </tr>\n",
              "    <tr>\n",
              "      <th>2639</th>\n",
              "      <td>and the cell on the right there</td>\n",
              "      <td>SSSSS और दायी तरफ की कोशिका EEEEE</td>\n",
              "      <td>और मानव के दशक में से</td>\n",
              "    </tr>\n",
              "    <tr>\n",
              "      <th>1620</th>\n",
              "      <td>and then as the ammonia reevaporates and combi...</td>\n",
              "      <td>SSSSS और फिर जैसे ही अमोनिया फिर से उड जाती है...</td>\n",
              "      <td>और फ़िर भी और फ़िर से ज्यादा ऊर्जा</td>\n",
              "    </tr>\n",
              "    <tr>\n",
              "      <th>7157</th>\n",
              "      <td>a friend of mine did that  richard bollingbroke</td>\n",
              "      <td>SSSSS जिसे मेरे एक मित्र रिचर्ड बोलिंगब्रोकRic...</td>\n",
              "      <td>एक औरत ने एक बार लिखा था</td>\n",
              "    </tr>\n",
              "    <tr>\n",
              "      <th>1109</th>\n",
              "      <td>the ratio  branko milanovic at the world bank ...</td>\n",
              "      <td>SSSSS अनुपातBranko Milanovic विश्व बैंक में पर...</td>\n",
              "      <td>के दशक में हमारे पास करोड डॉलर के</td>\n",
              "    </tr>\n",
              "    <tr>\n",
              "      <th>2663</th>\n",
              "      <td>and its a copyright violation</td>\n",
              "      <td>SSSSS और ये कॉपीराइट का हनन है। EEEEE</td>\n",
              "      <td>और यह एक और बड़ा रूप है</td>\n",
              "    </tr>\n",
              "    <tr>\n",
              "      <th>2096</th>\n",
              "      <td>and my experience in the private sector</td>\n",
              "      <td>SSSSS और निजी क्षेत्र के अनुभव को इस क्षेत्र म...</td>\n",
              "      <td>और मेरे पिता की एक मुलाकात थी</td>\n",
              "    </tr>\n",
              "    <tr>\n",
              "      <th>3309</th>\n",
              "      <td>you can look at medical care i mean hygiene va...</td>\n",
              "      <td>SSSSS आप चिकित्सा संभाल को देख सकते हैं मेरा म...</td>\n",
              "      <td>आप देखेंगे कि आप देख रहे हैं</td>\n",
              "    </tr>\n",
              "    <tr>\n",
              "      <th>7317</th>\n",
              "      <td>to go away and look for your own data</td>\n",
              "      <td>SSSSS जाने के लिए और अपने स्वयं के डेटा के लिए...</td>\n",
              "      <td>अपने आप को अपने रिश्तेदारों की वजह</td>\n",
              "    </tr>\n",
              "    <tr>\n",
              "      <th>4263</th>\n",
              "      <td>as far as my kids would be concerned</td>\n",
              "      <td>SSSSS जहाँ तक मेरे बच्चों का सवाल है EEEEE</td>\n",
              "      <td>जैसे कि मैं अपने जीवन में एक साथ</td>\n",
              "    </tr>\n",
              "    <tr>\n",
              "      <th>6333</th>\n",
              "      <td>to do what they do</td>\n",
              "      <td>SSSSS वो कार्य करना जो वे करते थे EEEEE</td>\n",
              "      <td>क्या करते हैं</td>\n",
              "    </tr>\n",
              "    <tr>\n",
              "      <th>6122</th>\n",
              "      <td>the persistence their ability to deal with amb...</td>\n",
              "      <td>SSSSS दृढ़ता अस्पष्ता को झेलने की क्षमता EEEEE</td>\n",
              "      <td>अपने जीवन के आसपास</td>\n",
              "    </tr>\n",
              "    <tr>\n",
              "      <th>7100</th>\n",
              "      <td>to the real koranic idea of paradise</td>\n",
              "      <td>SSSSS जो क़ुरान में वास्तव में दिए स्वर्ग की क...</td>\n",
              "      <td>इस महाद्वीप की वजह से</td>\n",
              "    </tr>\n",
              "    <tr>\n",
              "      <th>2253</th>\n",
              "      <td>when they catch the fish they call all the mar...</td>\n",
              "      <td>SSSSS जब वे मछलिया पकड़ लेते है तो वे तटीय बाज...</td>\n",
              "      <td>जब वे एक और प्रकाशित वाले हैं और</td>\n",
              "    </tr>\n",
              "    <tr>\n",
              "      <th>5528</th>\n",
              "      <td>to a woman at home alone</td>\n",
              "      <td>SSSSS उस कमज़ोर औरत से जो घर पर अकेले शिकार हो...</td>\n",
              "      <td>एक औरत की आवाज़ में से ज्यादा देखा</td>\n",
              "    </tr>\n",
              "    <tr>\n",
              "      <th>4249</th>\n",
              "      <td>and shes still talking while she puts the car ...</td>\n",
              "      <td>SSSSS और वो बातें करते करते कार पार्किंग गियर ...</td>\n",
              "      <td>और उन्होंने कहा “ये था कि ये एक अच्छा</td>\n",
              "    </tr>\n",
              "    <tr>\n",
              "      <th>7112</th>\n",
              "      <td>it stands for intelligent mobility platform wi...</td>\n",
              "      <td>SSSSS इसका पूरा नाम Intelligent Mobility Platf...</td>\n",
              "      <td>यह एक नयी जगह पर है जो कि एक राज्य</td>\n",
              "    </tr>\n",
              "    <tr>\n",
              "      <th>3730</th>\n",
              "      <td>so whos that</td>\n",
              "      <td>SSSSS तो ये कौन है EEEEE</td>\n",
              "      <td>तो हम जानते हैं</td>\n",
              "    </tr>\n",
              "    <tr>\n",
              "      <th>7613</th>\n",
              "      <td>to risk a quarter acre</td>\n",
              "      <td>SSSSS चौथाई एकड ज़मीन में ही जोखिम उठाना पडे E...</td>\n",
              "      <td>मानवीय शिक्षा की एक ऊर्जा</td>\n",
              "    </tr>\n",
              "    <tr>\n",
              "      <th>6708</th>\n",
              "      <td>the main use of that filter</td>\n",
              "      <td>SSSSS उस छननी का मुख्य काम EEEEE</td>\n",
              "      <td>इस तरह की समस्या को</td>\n",
              "    </tr>\n",
              "    <tr>\n",
              "      <th>3893</th>\n",
              "      <td>you know how to have table manners at grannys ...</td>\n",
              "      <td>SSSSS आप जानते ही है कि दादी की रविवार की पार्...</td>\n",
              "      <td>आपको पता है कि हमने एक साल की दूरी</td>\n",
              "    </tr>\n",
              "    <tr>\n",
              "      <th>1068</th>\n",
              "      <td>so through the marathon we learned</td>\n",
              "      <td>SSSSS इसलिए मैराथन के माध्यम से हमने सीखा EEEEE</td>\n",
              "      <td>तो हम में से कम करते हैं</td>\n",
              "    </tr>\n",
              "    <tr>\n",
              "      <th>3878</th>\n",
              "      <td>and that recognition will sow fear</td>\n",
              "      <td>SSSSS पर उस स्वीकृति से डर फैलेगा EEEEE</td>\n",
              "      <td>और उन्हें खुद से ही नहीं हैं</td>\n",
              "    </tr>\n",
              "    <tr>\n",
              "      <th>515</th>\n",
              "      <td>because the chinese ingratiated themselves</td>\n",
              "      <td>SSSSS क्यों के यहाँ पर चीनी ओने सम्बन्ध बना लि...</td>\n",
              "      <td>क्योंकि क्योंकि उनके पास</td>\n",
              "    </tr>\n",
              "    <tr>\n",
              "      <th>7408</th>\n",
              "      <td>they talked about the willingness</td>\n",
              "      <td>SSSSS उन्होंने इच्छा होने की बात की EEEEE</td>\n",
              "      <td>वे सब की बात करते हैं</td>\n",
              "    </tr>\n",
              "    <tr>\n",
              "      <th>6066</th>\n",
              "      <td>they would see themselves in the monitor excep...</td>\n",
              "      <td>SSSSS वो खुद को मॉनिटर पर देखते बस एक अंतर के ...</td>\n",
              "      <td>वो उन्हें अपने जीवन में से ज्यादा</td>\n",
              "    </tr>\n",
              "    <tr>\n",
              "      <th>6627</th>\n",
              "      <td>also for search and rescue applications as well</td>\n",
              "      <td>SSSSS खोज और बचाव कार्यो के लिए भी EEEEE</td>\n",
              "      <td>और भी ज्यादा ज्यादा ज्यादा ज्यादा</td>\n",
              "    </tr>\n",
              "    <tr>\n",
              "      <th>1475</th>\n",
              "      <td>it makes sense for everyone  in educationspeak...</td>\n",
              "      <td>SSSSS वो सबके लिये उपयुक्त लगता है  शिक्षाविदो...</td>\n",
              "      <td>यह सब कि आप के लिए कुछ और अधिक रखना</td>\n",
              "    </tr>\n",
              "    <tr>\n",
              "      <th>3824</th>\n",
              "      <td>and finally today speaking to you</td>\n",
              "      <td>SSSSS और आज आखिर आपसे बात कर रही हूँ EEEEE</td>\n",
              "      <td>और फिर से कम से पता है</td>\n",
              "    </tr>\n",
              "    <tr>\n",
              "      <th>6840</th>\n",
              "      <td>and in two hours after their backs were broke</td>\n",
              "      <td>SSSSS और दो घंटे में जब उनकी कमर टूट गयी EEEEE</td>\n",
              "      <td>और दो सालों में जो मैंने आठ सालों</td>\n",
              "    </tr>\n",
              "    <tr>\n",
              "      <th>2283</th>\n",
              "      <td>because it gives us a lot of pain in our work ...</td>\n",
              "      <td>SSSSS क्युंकि इसने हमे हमारे परियोजनायों में स...</td>\n",
              "      <td>क्योंकि हम एक छोटी से काम कर रहे</td>\n",
              "    </tr>\n",
              "    <tr>\n",
              "      <th>415</th>\n",
              "      <td>what that means is that each reading can be au...</td>\n",
              "      <td>SSSSS इसका मतलब हैं कि प्रत्येक अध्ययन को अपने...</td>\n",
              "      <td>कि क्या यह है कि आप एक ही चीज़ में</td>\n",
              "    </tr>\n",
              "    <tr>\n",
              "      <th>2689</th>\n",
              "      <td>after that i started to experiment</td>\n",
              "      <td>SSSSS उसके बाद मैंने कई और चीज़ों के साथ EEEEE</td>\n",
              "      <td>जैसे मैंने एक बार देखा</td>\n",
              "    </tr>\n",
              "    <tr>\n",
              "      <th>4640</th>\n",
              "      <td>we basically gave children a very simple chall...</td>\n",
              "      <td>SSSSS हमने मूलतः बच्चों को एक बहूत ही साधारण च...</td>\n",
              "      <td>हम एक दूसरे को एक बार से कुछ नहीं</td>\n",
              "    </tr>\n",
              "    <tr>\n",
              "      <th>392</th>\n",
              "      <td>so im excited about how i can bring the techno...</td>\n",
              "      <td>SSSSS तो मैं बहुत उत्सुक हूँ कि कैसे मैं इस तक...</td>\n",
              "      <td>तो मैं आपको एक और के लिए समाप्त करना</td>\n",
              "    </tr>\n",
              "    <tr>\n",
              "      <th>873</th>\n",
              "      <td>its a continuum of traits</td>\n",
              "      <td>SSSSS यह केवल लक्षणों की श्रृंखला है EEEEE</td>\n",
              "      <td>यह एक विशिष्ट की चुनौती है</td>\n",
              "    </tr>\n",
              "    <tr>\n",
              "      <th>7361</th>\n",
              "      <td>ill explain a little bit about how it works</td>\n",
              "      <td>SSSSS मैं थोड़ा सा बताऊंगा कि यह कैसे काम करता...</td>\n",
              "      <td>मैं एक छोटी बात करने के लिए कि मैं</td>\n",
              "    </tr>\n",
              "    <tr>\n",
              "      <th>6688</th>\n",
              "      <td>you pass it around you pass his words around</td>\n",
              "      <td>SSSSS आप ये बात फेलाते हो  आपने आसपास फेलाते ह...</td>\n",
              "      <td>आपको आपको अपने डिजिटल के लिए अपने</td>\n",
              "    </tr>\n",
              "    <tr>\n",
              "      <th>1217</th>\n",
              "      <td>and we continue to grow when the rest of the w...</td>\n",
              "      <td>SSSSS और हम आगे बढ़ते जा रहे है जब पूरी दुनिया...</td>\n",
              "      <td>और हम एक और के लिये एक दूसरे को बनाने</td>\n",
              "    </tr>\n",
              "    <tr>\n",
              "      <th>535</th>\n",
              "      <td>and stuck it to a blue piece of card</td>\n",
              "      <td>SSSSS और इसे एक नीले पत्ते पर नहीं लगा दिया हो...</td>\n",
              "      <td>और एक तरह की तरह की तरह से एक भी</td>\n",
              "    </tr>\n",
              "    <tr>\n",
              "      <th>5547</th>\n",
              "      <td>that brought democracy to the planet</td>\n",
              "      <td>SSSSS जो इस ग्रह पर लोकतंत्र को लेकर आई है। EEEEE</td>\n",
              "      <td>कि इस तरह की तुलना में</td>\n",
              "    </tr>\n",
              "    <tr>\n",
              "      <th>5747</th>\n",
              "      <td>its as if the world is flattening off isnt it ...</td>\n",
              "      <td>SSSSS यह ऐसा है मानो विश्व एकरूप हो रहा है। क्...</td>\n",
              "      <td>वास्तव में यह है कि अगर आप एक और</td>\n",
              "    </tr>\n",
              "    <tr>\n",
              "      <th>4397</th>\n",
              "      <td>ka by being totally surprising and humorous</td>\n",
              "      <td>SSSSS केविन एक अजूबा और मज़ाकिया होने के कारण ...</td>\n",
              "      <td>किसी को स्कूल में से ज्यादा ही नहीं</td>\n",
              "    </tr>\n",
              "    <tr>\n",
              "      <th>5187</th>\n",
              "      <td>i say “how would you walk how would you talk h...</td>\n",
              "      <td>SSSSS मैं कहता हूँ “आप कैसे चलेंगे कैसे बात कर...</td>\n",
              "      <td>मुझे लगता है कि आप इस तरह के बारे</td>\n",
              "    </tr>\n",
              "    <tr>\n",
              "      <th>5387</th>\n",
              "      <td>essentially to say “we will do anything to pla...</td>\n",
              "      <td>SSSSS अनिवार्य रूप से कहने के लिए “हम कुछ भी क...</td>\n",
              "      <td>हमें पता है कि हम अपने बच्चों को</td>\n",
              "    </tr>\n",
              "    <tr>\n",
              "      <th>7382</th>\n",
              "      <td>what could be more lonely than to be enveloped...</td>\n",
              "      <td>SSSSS चुप्पी से घिरे रहने से ज्यादा अकेलापन और...</td>\n",
              "      <td>हमें अपने जीवन में से ज्यादा करना</td>\n",
              "    </tr>\n",
              "    <tr>\n",
              "      <th>2452</th>\n",
              "      <td>you lived  years more</td>\n",
              "      <td>SSSSS कम से कम दस साल ज्यादा जीते थे EEEEE</td>\n",
              "      <td>आप देखेंगे कि आप सभी की</td>\n",
              "    </tr>\n",
              "  </tbody>\n",
              "</table>\n",
              "</div>"
            ],
            "text/plain": [
              "                                                English  ...                                   Hindi\n",
              "2192  or is it more likely that a reader of skeptic ...  ...        या इस दुनिया को इस्तेमाल करने के\n",
              "6211           its not just throwing them out at random  ...     यह नहीं है कि वे इसे करना चाहते हैं\n",
              "1786          ill just show you some of the experiments  ...        मैं आपको एक उदाहरण के लिए दिखाना\n",
              "817                   highways bridges things like that  ...                  जैसे कि कुछ भी कुछ हो \n",
              "2639                    and the cell on the right there  ...                  और मानव के दशक में से \n",
              "1620  and then as the ammonia reevaporates and combi...  ...      और फ़िर भी और फ़िर से ज्यादा ऊर्जा\n",
              "7157    a friend of mine did that  richard bollingbroke  ...               एक औरत ने एक बार लिखा था \n",
              "1109  the ratio  branko milanovic at the world bank ...  ...       के दशक में हमारे पास करोड डॉलर के\n",
              "2663                      and its a copyright violation  ...                और यह एक और बड़ा रूप है \n",
              "2096            and my experience in the private sector  ...          और मेरे पिता की एक मुलाकात थी \n",
              "3309  you can look at medical care i mean hygiene va...  ...           आप देखेंगे कि आप देख रहे हैं \n",
              "7317              to go away and look for your own data  ...      अपने आप को अपने रिश्तेदारों की वजह\n",
              "4263               as far as my kids would be concerned  ...        जैसे कि मैं अपने जीवन में एक साथ\n",
              "6333                                 to do what they do  ...                          क्या करते हैं \n",
              "6122  the persistence their ability to deal with amb...  ...                     अपने जीवन के आसपास \n",
              "7100               to the real koranic idea of paradise  ...                  इस महाद्वीप की वजह से \n",
              "2253  when they catch the fish they call all the mar...  ...        जब वे एक और प्रकाशित वाले हैं और\n",
              "5528                           to a woman at home alone  ...      एक औरत की आवाज़ में से ज्यादा देखा\n",
              "4249  and shes still talking while she puts the car ...  ...   और उन्होंने कहा “ये था कि ये एक अच्छा\n",
              "7112  it stands for intelligent mobility platform wi...  ...      यह एक नयी जगह पर है जो कि एक राज्य\n",
              "3730                                       so whos that  ...                        तो हम जानते हैं \n",
              "7613                             to risk a quarter acre  ...              मानवीय शिक्षा की एक ऊर्जा \n",
              "6708                        the main use of that filter  ...                    इस तरह की समस्या को \n",
              "3893  you know how to have table manners at grannys ...  ...      आपको पता है कि हमने एक साल की दूरी\n",
              "1068                 so through the marathon we learned  ...               तो हम में से कम करते हैं \n",
              "3878                 and that recognition will sow fear  ...           और उन्हें खुद से ही नहीं हैं \n",
              "515          because the chinese ingratiated themselves  ...               क्योंकि क्योंकि उनके पास \n",
              "7408                  they talked about the willingness  ...                  वे सब की बात करते हैं \n",
              "6066  they would see themselves in the monitor excep...  ...       वो उन्हें अपने जीवन में से ज्यादा\n",
              "6627    also for search and rescue applications as well  ...       और भी ज्यादा ज्यादा ज्यादा ज्यादा\n",
              "1475  it makes sense for everyone  in educationspeak...  ...     यह सब कि आप के लिए कुछ और अधिक रखना\n",
              "3824                  and finally today speaking to you  ...                 और फिर से कम से पता है \n",
              "6840      and in two hours after their backs were broke  ...       और दो सालों में जो मैंने आठ सालों\n",
              "2283  because it gives us a lot of pain in our work ...  ...        क्योंकि हम एक छोटी से काम कर रहे\n",
              "415   what that means is that each reading can be au...  ...      कि क्या यह है कि आप एक ही चीज़ में\n",
              "2689                 after that i started to experiment  ...                 जैसे मैंने एक बार देखा \n",
              "4640  we basically gave children a very simple chall...  ...       हम एक दूसरे को एक बार से कुछ नहीं\n",
              "392   so im excited about how i can bring the techno...  ...    तो मैं आपको एक और के लिए समाप्त करना\n",
              "873                           its a continuum of traits  ...             यह एक विशिष्ट की चुनौती है \n",
              "7361        ill explain a little bit about how it works  ...      मैं एक छोटी बात करने के लिए कि मैं\n",
              "6688       you pass it around you pass his words around  ...       आपको आपको अपने डिजिटल के लिए अपने\n",
              "1217  and we continue to grow when the rest of the w...  ...   और हम एक और के लिये एक दूसरे को बनाने\n",
              "535                and stuck it to a blue piece of card  ...        और एक तरह की तरह की तरह से एक भी\n",
              "5547               that brought democracy to the planet  ...                 कि इस तरह की तुलना में \n",
              "5747  its as if the world is flattening off isnt it ...  ...        वास्तव में यह है कि अगर आप एक और\n",
              "4397        ka by being totally surprising and humorous  ...     किसी को स्कूल में से ज्यादा ही नहीं\n",
              "5187  i say “how would you walk how would you talk h...  ...       मुझे लगता है कि आप इस तरह के बारे\n",
              "5387  essentially to say “we will do anything to pla...  ...        हमें पता है कि हम अपने बच्चों को\n",
              "7382  what could be more lonely than to be enveloped...  ...       हमें अपने जीवन में से ज्यादा करना\n",
              "2452                              you lived  years more  ...                आप देखेंगे कि आप सभी की \n",
              "\n",
              "[50 rows x 3 columns]"
            ]
          },
          "metadata": {
            "tags": []
          },
          "execution_count": 40
        }
      ]
    },
    {
      "cell_type": "markdown",
      "metadata": {
        "id": "f8prNUrcpNg2",
        "colab_type": "text"
      },
      "source": [
        "#Visualisation"
      ]
    },
    {
      "cell_type": "code",
      "metadata": {
        "id": "reiik6dw8CgJ",
        "colab_type": "code",
        "colab": {}
      },
      "source": [
        "%reload_ext tensorboard\n",
        "#%tensorboard --inspect --logdir ./log/v1/"
      ],
      "execution_count": 0,
      "outputs": []
    },
    {
      "cell_type": "code",
      "metadata": {
        "id": "2Ov8U-ropE1t",
        "colab_type": "code",
        "colab": {
          "base_uri": "https://localhost:8080/",
          "height": 34
        },
        "outputId": "44b44c06-d7a0-4291-cb28-bd3b98f9055f"
      },
      "source": [
        "%tensorboard --logdir ./log/v1/"
      ],
      "execution_count": 47,
      "outputs": [
        {
          "output_type": "display_data",
          "data": {
            "text/plain": [
              "Reusing TensorBoard on port 6006 (pid 995), started 0:51:52 ago. (Use '!kill 995' to kill it.)"
            ]
          },
          "metadata": {
            "tags": []
          }
        },
        {
          "output_type": "display_data",
          "data": {
            "text/html": [
              "\n",
              "    <div id=\"root\"></div>\n",
              "    <script>\n",
              "      (function() {\n",
              "        window.TENSORBOARD_ENV = window.TENSORBOARD_ENV || {};\n",
              "        window.TENSORBOARD_ENV[\"IN_COLAB\"] = true;\n",
              "        document.querySelector(\"base\").href = \"https://localhost:6006\";\n",
              "        function fixUpTensorboard(root) {\n",
              "          const tftb = root.querySelector(\"tf-tensorboard\");\n",
              "          // Disable the fragment manipulation behavior in Colab. Not\n",
              "          // only is the behavior not useful (as the iframe's location\n",
              "          // is not visible to the user), it causes TensorBoard's usage\n",
              "          // of `window.replace` to navigate away from the page and to\n",
              "          // the `localhost:<port>` URL specified by the base URI, which\n",
              "          // in turn causes the frame to (likely) crash.\n",
              "          tftb.removeAttribute(\"use-hash\");\n",
              "        }\n",
              "        function executeAllScripts(root) {\n",
              "          // When `script` elements are inserted into the DOM by\n",
              "          // assigning to an element's `innerHTML`, the scripts are not\n",
              "          // executed. Thus, we manually re-insert these scripts so that\n",
              "          // TensorBoard can initialize itself.\n",
              "          for (const script of root.querySelectorAll(\"script\")) {\n",
              "            const newScript = document.createElement(\"script\");\n",
              "            newScript.type = script.type;\n",
              "            newScript.textContent = script.textContent;\n",
              "            root.appendChild(newScript);\n",
              "            script.remove();\n",
              "          }\n",
              "        }\n",
              "        function setHeight(root, height) {\n",
              "          // We set the height dynamically after the TensorBoard UI has\n",
              "          // been initialized. This avoids an intermediate state in\n",
              "          // which the container plus the UI become taller than the\n",
              "          // final width and cause the Colab output frame to be\n",
              "          // permanently resized, eventually leading to an empty\n",
              "          // vertical gap below the TensorBoard UI. It's not clear\n",
              "          // exactly what causes this problematic intermediate state,\n",
              "          // but setting the height late seems to fix it.\n",
              "          root.style.height = `${height}px`;\n",
              "        }\n",
              "        const root = document.getElementById(\"root\");\n",
              "        fetch(\".\")\n",
              "          .then((x) => x.text())\n",
              "          .then((html) => void (root.innerHTML = html))\n",
              "          .then(() => fixUpTensorboard(root))\n",
              "          .then(() => executeAllScripts(root))\n",
              "          .then(() => setHeight(root, 800));\n",
              "      })();\n",
              "    </script>\n",
              "  "
            ],
            "text/plain": [
              "<IPython.core.display.HTML object>"
            ]
          },
          "metadata": {
            "tags": []
          }
        }
      ]
    },
    {
      "cell_type": "markdown",
      "metadata": {
        "id": "z0v1rMbKgLvA",
        "colab_type": "text"
      },
      "source": [
        "# BLEU Score"
      ]
    },
    {
      "cell_type": "code",
      "metadata": {
        "id": "6RjjdI51HFeD",
        "colab_type": "code",
        "colab": {}
      },
      "source": [
        "from nltk.translate.bleu_score import corpus_bleu\n",
        "def evaluate_model(actual,predicted):\n",
        "\tprint('BLEU-1: %f' % corpus_bleu(actual, predicted, weights=(1.0, 0, 0, 0)))\n",
        "\tprint('BLEU-2: %f' % corpus_bleu(actual, predicted, weights=(0.5, 0.5, 0, 0)))\n",
        "\tprint('BLEU-3: %f' % corpus_bleu(actual, predicted, weights=(0.3, 0.3, 0.3, 0)))\n",
        "\tprint('BLEU-4: %f' % corpus_bleu(actual, predicted, weights=(0.25, 0.25, 0.25, 0.25)))"
      ],
      "execution_count": 0,
      "outputs": []
    },
    {
      "cell_type": "code",
      "metadata": {
        "id": "Cnh4hJQZkwQd",
        "colab_type": "code",
        "colab": {
          "base_uri": "https://localhost:8080/",
          "height": 153
        },
        "outputId": "bd24721a-c686-44bf-cfc1-88b121e77a8f"
      },
      "source": [
        "evaluate_model(df['Actual'].values,df['Hindi'].values)"
      ],
      "execution_count": 46,
      "outputs": [
        {
          "output_type": "stream",
          "text": [
            "/usr/local/lib/python3.6/dist-packages/nltk/translate/bleu_score.py:490: UserWarning: \n",
            "Corpus/Sentence contains 0 counts of 2-gram overlaps.\n",
            "BLEU scores might be undesirable; use SmoothingFunction().\n",
            "  warnings.warn(_msg)\n"
          ],
          "name": "stderr"
        },
        {
          "output_type": "stream",
          "text": [
            "BLEU-1: 0.365668\n",
            "BLEU-2: 0.604705\n",
            "BLEU-3: 0.739479\n",
            "BLEU-4: 0.777628\n"
          ],
          "name": "stdout"
        }
      ]
    },
    {
      "cell_type": "markdown",
      "metadata": {
        "id": "xsy1gieZ0NcD",
        "colab_type": "text"
      },
      "source": [
        "# REFERENCES:\n",
        "https://www.analyticsvidhya.com/blog/2019/01/neural-machine-translation-keras/\n",
        "https://github.com/prateekjoshi565/machine_translation/blob/master/german_to_english.ipynb\n",
        "https://github.com/tensorflow/tensorflow/issues/17150\n",
        "https://github.com/Hvass-Labs/TensorFlow-Tutorials/blob/master/21_Machine_Translation.ipynb\n",
        "https://www.tensorflow.org/tutorials/text/nmt_with_attention\n",
        "https://gist.github.com/rmdort/acb30d2552b146712eda71de956b8a00\n",
        "https://wanasit.github.io/attention-based-sequence-to-sequence-in-keras.html\n",
        "https://machinelearningmastery.com/encoder-decoder-attention-sequence-to-sequence-prediction-keras/\n",
        "https://github.com/thushv89/attention_keras/blob/master/examples/nmt_bidirectional/train.py\n",
        "https://machinelearningmastery.com/develop-neural-machine-translation-system-keras/\n",
        "https://towardsdatascience.com/word-level-english-to-marathi-neural-machine-translation-using-seq2seq-encoder-decoder-lstm-model-1a913f2dc4a7\n",
        "https://towardsdatascience.com/light-on-math-ml-attention-with-keras-dc8dbc1fad39\n",
        "https://towardsdatascience.com/neural-machine-translation-using-seq2seq-with-keras-c23540453c74\n",
        "https://github.com/pradeepsinngh/Neural-Machine-Translation/blob/master/machine_translation.ipynb\n",
        "https://machinelearningmastery.com/configure-encoder-decoder-model-neural-machine-translation/\n",
        "https://machinetalk.org/2019/03/29/neural-machine-translation-with-attention-mechanism/\n",
        "https://github.com/ChunML/NLP/blob/master/machine_translation/train_luong_tf2.py\n",
        "https://www.kaggle.com/aiswaryaramachandran/hindienglish-corpora\n",
        "https://machinelearningmastery.com/encoder-decoder-attention-sequence-to-sequence-prediction-keras/\n",
        "https://github.com/datalogue/keras-attention/tree/master/models\n",
        "https://machinelearningmastery.com/calculate-bleu-score-for-text-python/"
      ]
    }
  ]
}